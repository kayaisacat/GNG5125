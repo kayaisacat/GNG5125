{
 "cells": [
  {
   "cell_type": "code",
   "execution_count": 33,
   "metadata": {},
   "outputs": [
    {
     "name": "stderr",
     "output_type": "stream",
     "text": [
      "[nltk_data] Downloading package gutenberg to\n",
      "[nltk_data]     /Users/yuting/nltk_data...\n",
      "[nltk_data]   Unzipping corpora/gutenberg.zip.\n",
      "[nltk_data] Downloading package punkt to /Users/yuting/nltk_data...\n",
      "[nltk_data]   Package punkt is already up-to-date!\n"
     ]
    },
    {
     "data": {
      "text/plain": [
       "True"
      ]
     },
     "execution_count": 33,
     "metadata": {},
     "output_type": "execute_result"
    }
   ],
   "source": [
    "# Library\n",
    "import nltk\n",
    "import random\n",
    "import re\n",
    "import csv\n",
    "import urllib.request\n",
    "import numpy as np\n",
    "import pandas as pd\n",
    "from nltk.corpus import stopwords\n",
    "from collections import Counter\n",
    "from nltk.tokenize import word_tokenize\n",
    "nltk.download('gutenberg')\n",
    "nltk.download('punkt')"
   ]
  },
  {
   "cell_type": "code",
   "execution_count": 17,
   "metadata": {},
   "outputs": [
    {
     "data": {
      "text/plain": [
       "['austen-emma.txt',\n",
       " 'austen-persuasion.txt',\n",
       " 'austen-sense.txt',\n",
       " 'bible-kjv.txt',\n",
       " 'blake-poems.txt',\n",
       " 'bryant-stories.txt',\n",
       " 'burgess-busterbrown.txt',\n",
       " 'carroll-alice.txt',\n",
       " 'chesterton-ball.txt',\n",
       " 'chesterton-brown.txt',\n",
       " 'chesterton-thursday.txt',\n",
       " 'edgeworth-parents.txt',\n",
       " 'melville-moby_dick.txt',\n",
       " 'milton-paradise.txt',\n",
       " 'shakespeare-caesar.txt',\n",
       " 'shakespeare-hamlet.txt',\n",
       " 'shakespeare-macbeth.txt',\n",
       " 'whitman-leaves.txt']"
      ]
     },
     "execution_count": 17,
     "metadata": {},
     "output_type": "execute_result"
    }
   ],
   "source": [
    "# Find the available book name\n",
    "nltk.corpus.gutenberg.fileids() "
   ]
  },
  {
   "cell_type": "code",
   "execution_count": 44,
   "metadata": {},
   "outputs": [
    {
     "name": "stdout",
     "output_type": "stream",
     "text": [
      "Peter_Pen.txt has been saved.\n",
      "The_Adventures_of_Tom_Sawyer.txt has been saved.\n",
      "Treasure_Island.txt has been saved.\n",
      "The_Wind_in_the_Willows.txt has been saved.\n",
      "The_Secret_Garden.txt has been saved.\n"
     ]
    }
   ],
   "source": [
    "# Define the URL and filenames for each book\n",
    "books = [\n",
    "    {\"url\": \"https://www.gutenberg.org/files/16/16-0.txt\", \"filename\": \"Peter_Pen.txt\"},\n",
    "    {\"url\": \"https://www.gutenberg.org/files/74/74-0.txt\", \"filename\": \"The_Adventures_of_Tom_Sawyer.txt\"},\n",
    "    {\"url\": \"https://www.gutenberg.org/cache/epub/120/pg120.txt\", \"filename\": \"Treasure_Island.txt\"},\n",
    "    {\"url\": \"https://www.gutenberg.org/files/289/289-0.txt\", \"filename\": \"The_Wind_in_the_Willows.txt\"},\n",
    "    {\"url\": \"https://www.gutenberg.org/cache/epub/17396/pg17396.txt\", \"filename\": \"The_Secret_Garden.txt\"},\n",
    "    {\"url\": \"https://www.gutenberg.org/cache/epub/1342/pg1342.txt\", \"filename\": \"Pride_and_Prejudice.txt\"},\n",
    "    {\"url\": \"https://www.gutenberg.org/files/1661/1661-0.txt\", \"filename\": \"The_Adventures_of_Sherlock_Holmes.txt\"},\n",
    "]\n",
    "\n",
    "# Download and save each book\n",
    "for book in books:\n",
    "    url = book[\"url\"]\n",
    "    filename = book[\"filename\"]\n",
    "    urllib.request.urlretrieve(url, filename)\n",
    "    print(f\"{filename} has been saved.\")\n"
   ]
  },
  {
   "cell_type": "markdown",
   "metadata": {},
   "source": [
    "# Choice five books have the same genres and semantically the same\n",
    "## Download: https://www.gutenberg.org\n",
    "# Children literature\n",
    "'Peter Pen\" by J. M. Barrie\n",
    "https://www.gutenberg.org/files/16/16-0.txt\n",
    "\n",
    "\"The Adventures of Tom Sawyer\" by Mark Twain\n",
    "https://www.gutenberg.org/files/74/74-0.txt\n",
    "\n",
    "\"The Wind in the Willows\" by Kenneth Grahame\n",
    "https://www.gutenberg.org/files/289/289-0.txt\n",
    "\n",
    "\"The Secret Garden\" by Frances Hodgson Burnett\n",
    "https://www.gutenberg.org/cache/epub/17396/pg17396.txt\n",
    "\n",
    "\"Treasure Island\" by Robert Louis Stevenson\n",
    "https://www.gutenberg.org/cache/epub/120/pg120.txt\n",
    "\n",
    "# Another text book by the different genre\n",
    "# romance fiction\n",
    "\"Pride and Prejudice\" by Jane Austen\n",
    "https://www.gutenberg.org/cache/epub/1342/pg1342.txt\n",
    "\n",
    "# mystery fiction\n",
    "\"The Adventures of Sherlock Holmes\" by Sir Arthur Conan Doyle\n",
    "https://www.gutenberg.org/files/1661/1661-0.txt"
   ]
  },
  {
   "cell_type": "code",
   "execution_count": 45,
   "metadata": {},
   "outputs": [],
   "source": [
    "def sample_digital_book(book_name, num_partitions, size_partition):\n",
    "    \n",
    "    # Download the digital book from the local directory\n",
    "    book_file = open(book_name, \"r\")\n",
    "    book = book_file.read()\n",
    "    book_file.close()\n",
    "\n",
    "    # use 'word_tokenize' function to tokenize the book into words.\n",
    "    # Then, divide digital book into each partitions of the specified size (100 words)\n",
    "    partitions = nltk.word_tokenize(book)\n",
    "    partitions = [partitions[i : i+size_partition] for i in range(0, len(partitions), size_partition)]\n",
    "    \n",
    "    # Check num_partitions is valid\n",
    "    if num_partitions > len(partitions) or num_partitions < 0:\n",
    "        num_partitions = len(partitions)\n",
    "    partitions = partitions[:num_partitions]\n",
    "    \n",
    "    # Create labels\n",
    "    labels = [book_name[:1]]\n",
    "    # Repeat the labels for the number of times that can fit in the partitions\n",
    "    label_list = labels*(num_partitions//len(labels))\n",
    "    # Get the remainder labels that are needed.\n",
    "    label_list += labels[:num_partitions%len(labels)]\n",
    "    \n",
    "    \n",
    "    # Use regular expression to manipulate the text\n",
    "    # and the regular expression r'[^\\w\\s]' is used to remove non-alphanumeric characters from the text.\n",
    "    partitions = [[re.sub(r'[^\\w\\s]', '', word) for word in partition] for partition in partitions]\n",
    "    \n",
    "    # Remove empty strings from the list\n",
    "    partitions = [[word for word in partition if word] for partition in partitions]\n",
    "\n",
    "    # Create pandas dataframe to store the text data\n",
    "    data = {'partition': partitions, 'label': label_list}\n",
    "    df = pd.DataFrame(data) \n",
    "\n",
    "    # Serialize dataframe to csv\n",
    "    df.to_csv(book_name + '.csv', index=False)\n",
    "    \n",
    "    return partitions"
   ]
  },
  {
   "cell_type": "code",
   "execution_count": 46,
   "metadata": {},
   "outputs": [],
   "source": [
    "# Testing for multiple books:\n",
    "book_name1 = \"Peter_Pen.txt\"\n",
    "book_name2 = \"The_Adventures_of_Tom_Sawyer.txt\"\n",
    "book_name3 = \"Treasure_Island.txt\"\n",
    "book_name4 = \"The_Wind_in_the_Willows.txt\"\n",
    "book_name5 = \"The_Secret_Garden.txt\"\n",
    "book_name6 = \"Pride_and_Prejudice.txt\"\n",
    "book_name7 = \"The_Adventures_of_Sherlock_Holmes.txt\"\n",
    "book_list = [book_name1, book_name2, book_name3, book_name4, book_name5, book_name6]\n",
    "# If book_list > label_list, add \"f\",\"g\",etc.\n",
    "label_list = [\"a\",\"b\",\"c\",\"d\",\"e\",\"f\",\"g\"]\n",
    "df_list = []\n",
    "for i, book_name in enumerate(book_list):\n",
    "    partitions = sample_digital_book(book_name, 200, 100)\n",
    "    temp = pd.DataFrame({'partition': partitions, 'label': label_list[i]})\n",
    "    df_list.append(temp)\n",
    "\n",
    "df = pd.concat(df_list)\n",
    "df.to_csv(\"Children_Literature_books_data.csv\", index=False)\n",
    "\n"
   ]
  }
 ],
 "metadata": {
  "kernelspec": {
   "display_name": "Python 3.9.6 64-bit",
   "language": "python",
   "name": "python3"
  },
  "language_info": {
   "codemirror_mode": {
    "name": "ipython",
    "version": 3
   },
   "file_extension": ".py",
   "mimetype": "text/x-python",
   "name": "python",
   "nbconvert_exporter": "python",
   "pygments_lexer": "ipython3",
   "version": "3.9.6"
  },
  "orig_nbformat": 4,
  "vscode": {
   "interpreter": {
    "hash": "31f2aee4e71d21fbe5cf8b01ff0e069b9275f58929596ceb00d14d90e3e16cd6"
   }
  }
 },
 "nbformat": 4,
 "nbformat_minor": 2
}
